{
 "cells": [
  {
   "cell_type": "markdown",
   "metadata": {},
   "source": [
    "# Part 1: Basic Image Prompting\n",
    "\n",
    "In this notebook we'll show how to interact with Gemma using images"
   ]
  },
  {
   "cell_type": "markdown",
   "metadata": {},
   "source": [
    "## Sending a Basic Prompt to the Model\n",
    "\n",
    "Here's the simple chat flow to Gemma once again."
   ]
  },
  {
   "cell_type": "code",
   "execution_count": 2,
   "metadata": {},
   "outputs": [
    {
     "data": {
      "text/plain": [
       "'Hello everyone! 😊 \\n\\nIt’s great to be here with you all today. \\n\\nHow’s everyone doing?'"
      ]
     },
     "execution_count": 2,
     "metadata": {},
     "output_type": "execute_result"
    }
   ],
   "source": [
    "from ollama import chat\n",
    "from ollama import ChatResponse\n",
    "\n",
    "model = 'gemma3:4b'\n",
    "# Note, the argument model_prompt is specific here\n",
    "def model_call(model_prompt):\n",
    "    \n",
    "    response: ChatResponse = chat(model=model, messages=[\n",
    "      {\n",
    "        'role': 'user',\n",
    "        'content': model_prompt,\n",
    "      },\n",
    "    ])\n",
    "    return response['message']['content']\n",
    "\n",
    "user_prompt = \"Say hello to the class\"\n",
    "\n",
    "# Note, the argument user_prompt is specific here\n",
    "model_call(user_prompt)"
   ]
  },
  {
   "cell_type": "markdown",
   "metadata": {},
   "source": [
    "## Adding an Image\n",
    "Gemma3 has been trained with multimodality, where images are converted into embedding vectors the model can operate on. As a user adding an image is quite straightforward."
   ]
  },
  {
   "cell_type": "code",
   "execution_count": 3,
   "metadata": {},
   "outputs": [
    {
     "data": {
      "text/plain": [
       "'The image shows nine yellow rubber duckies arranged in a 3x3 grid against a transparent checkered background. \\n\\nThey are the classic bath toy, typically bright yellow and with a simple, cheerful design. The background transparency suggests these might be images intended for digital compositing or design projects.'"
      ]
     },
     "execution_count": 3,
     "metadata": {},
     "output_type": "execute_result"
    }
   ],
   "source": [
    "image_path = \"img/ducks.jpg\"  \n",
    "\n",
    "response = chat(\n",
    "        model=\"gemma3:27b-it-qat\",  \n",
    "        messages=[\n",
    "            {\n",
    "                'role': 'user',\n",
    "                'content': 'What is this?',\n",
    "                'images': [image_path]\n",
    "            }\n",
    "        ]\n",
    "    )\n",
    "\n",
    "response[\"message\"][\"content\"]"
   ]
  },
  {
   "cell_type": "code",
   "execution_count": 7,
   "metadata": {},
   "outputs": [
    {
     "data": {
      "text/plain": [
       "'This image shows nine yellow rubber ducks arranged in a grid on a transparent background.'"
      ]
     },
     "execution_count": 7,
     "metadata": {},
     "output_type": "execute_result"
    }
   ],
   "source": [
    "image_path = \"img/ducks.jpg\"  \n",
    "\n",
    "response = chat(\n",
    "        model=\"gemma3:4b\",  \n",
    "        messages=[\n",
    "            {\n",
    "                'role': 'user',\n",
    "                'content': 'What is this?',\n",
    "                'images': [image_path]\n",
    "            }\n",
    "        ]\n",
    "    )\n",
    "\n",
    "response[\"message\"][\"content\"]"
   ]
  },
  {
   "cell_type": "markdown",
   "metadata": {},
   "source": [
    "## OCR Use Cases"
   ]
  },
  {
   "cell_type": "code",
   "execution_count": 9,
   "metadata": {},
   "outputs": [
    {
     "data": {
      "text/plain": [
       "'Here\\'s a breakdown of the text visible in the image of the receipt:\\n\\n**Header Information:**\\n\\n*   **SHOP NAME**\\n*   **Address:** Lorem Ipsum, 23-10\\n*   **Telp:** 11223344\\n\\n**Receipt Details:**\\n\\n*   **CASH RECEIPT**\\n*   **Description** | **Price**\\n    *   Lorem | 1.1\\n    *   Ipsum | 2.2\\n    *   Dolor sit amet | 3.3\\n    *   Consectetur | 4.4\\n    *   Adipiscing elit | 5.5\\n*   **Total** | **16.5**\\n*   Cash | 20.0\\n*   Change | 3.5\\n*   Bank card | 234\\n*   Approval Code | #123456\\n\\n**Footer:**\\n\\n*   THANK YOU!\\n*   (A barcode is also present)\\n\\n**Design Attribution:**\\n\\n*   designed by **freepik**\\n\\nThe receipt appears to be a sample with placeholder text (\"Lorem Ipsum\") rather than a real transaction record.'"
      ]
     },
     "execution_count": 9,
     "metadata": {},
     "output_type": "execute_result"
    }
   ],
   "source": [
    "image_path = \"img/Receipt.jpg\"  # Replace with the actual path to your image file\n",
    "\n",
    "def image_chat(prompt, img_path):\n",
    "    response = chat(\n",
    "        model=\"gemma3:27b-it-qat\",  # Use a vision-capable model like LLaVA\n",
    "        messages=[\n",
    "            {\n",
    "                'role': 'user',\n",
    "                'content': prompt,\n",
    "                'images': [img_path]\n",
    "            }\n",
    "        ]\n",
    "    )\n",
    "    return response[\"message\"][\"content\"]\n",
    "\n",
    "\n",
    "response = image_chat(\"What's the text in this image?\",image_path)"
   ]
  },
  {
   "cell_type": "markdown",
   "metadata": {},
   "source": [
    "## Counting Objects"
   ]
  },
  {
   "cell_type": "code",
   "execution_count": 10,
   "metadata": {},
   "outputs": [
    {
     "data": {
      "text/plain": [
       "'Based on the image, there are **four** ducks. \\n\\nYou can see three male ducks with the distinctive green heads and one female duck with a more mottled brown coloration.'"
      ]
     },
     "execution_count": 10,
     "metadata": {},
     "output_type": "execute_result"
    }
   ],
   "source": [
    "image_path = \"img/RealDucks.jpg\"  # Replace with the actual path to your image file\n",
    "\n",
    "\n",
    "image_chat(\"How many ducks are in this image?\", image_path) "
   ]
  },
  {
   "cell_type": "markdown",
   "metadata": {},
   "source": [
    "## 🎯 Recap: What We Learned\n",
    "\n",
    "In this section, we built our first basic agent that can recognize when a tool call is needed and respond accordingly.\n",
    "\n",
    "* **Provide Gemma Models Image Input** - Saw how to provide images to Gemma models using ollama\n",
    "* **Assess performance** - Saw how different sized models have different speed and performance\n",
    "* **Showcased different use cases** - Tested various use cases such as OCR and counting"
   ]
  }
 ],
 "metadata": {
  "kernelspec": {
   "display_name": "Python 3 (ipykernel)",
   "language": "python",
   "name": "python3"
  },
  "language_info": {
   "codemirror_mode": {
    "name": "ipython",
    "version": 3
   },
   "file_extension": ".py",
   "mimetype": "text/x-python",
   "name": "python",
   "nbconvert_exporter": "python",
   "pygments_lexer": "ipython3",
   "version": "3.12.9"
  }
 },
 "nbformat": 4,
 "nbformat_minor": 4
}
