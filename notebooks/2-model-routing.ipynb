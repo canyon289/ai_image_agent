{
 "cells": [
  {
   "cell_type": "markdown",
   "metadata": {},
   "source": [
    "# Part 3: Creating a Basic Image Agent\n",
    "\n",
    "![Alt text](img/augLLMs.png)\n",
    "\n",
    "In this tutorial we'll be making a simplified image classifier/agent with Gemma3.\n",
    "\n",
    "There are two parts\n",
    "\n",
    "* **Multimodal Gemma Classifier** - Using a Gemma model to detect what's in the image and provide a specific output.\n",
    "* **Downstream Action** - A simple function that can process the results of the action, such as sending an email or anything else!"
   ]
  },
  {
   "cell_type": "markdown",
   "metadata": {},
   "source": [
    "## Putting it all together\n",
    "\n",
    "Now that we have an image model ready, let's set up a simple function to interact with the model and it's outputs. Let's redefine `model_call(prompt)` function that sends user input to the LLM and receives a response.  "
   ]
  },
  {
   "cell_type": "code",
   "execution_count": 13,
   "metadata": {},
   "outputs": [
    {
     "data": {
      "text/markdown": [
       "This image shows a **dachshund dog dressed in a hot dog costume**. \n",
       "\n",
       "The costume is designed to look like a full hot dog with a bun, ketchup, and mustard on top of the dog's back. It's a playful and humorous outfit!"
      ],
      "text/plain": [
       "<IPython.core.display.Markdown object>"
      ]
     },
     "metadata": {},
     "output_type": "display_data"
    }
   ],
   "source": [
    "from ollama import chat\n",
    "from ollama import ChatResponse\n",
    "import pprint\n",
    "from IPython.display import Markdown\n",
    "\n",
    "image_path = \"img/NotHotDog.jpg\"  # Replace with the actual path to your image file\n",
    "\n",
    "\n",
    "def image_chat(prompt, img_path, model=\"gemma3:27b-it-qat\"):\n",
    "    response = chat(\n",
    "        model = model, \n",
    "        messages=[\n",
    "            {\n",
    "                'role': 'user',\n",
    "                'content': prompt,\n",
    "                'images': [img_path]\n",
    "            }\n",
    "        ]\n",
    "    )\n",
    "    return response[\"message\"][\"content\"]\n",
    "\n",
    "prompt = \"What is this an image of?\"\n",
    "output = image_chat(prompt, image_path)\n",
    "\n",
    "display(Markdown(output))"
   ]
  },
  {
   "cell_type": "markdown",
   "metadata": {},
   "source": [
    "## Hot Dog or not Hotdog Classifier"
   ]
  },
  {
   "cell_type": "code",
   "execution_count": 14,
   "metadata": {},
   "outputs": [
    {
     "data": {
      "text/plain": [
       "'no'"
      ]
     },
     "execution_count": 14,
     "metadata": {},
     "output_type": "execute_result"
    }
   ],
   "source": [
    "image_path = \"img/NotHotDog.jpg\"  # Replace with the actual path to your image file\n",
    "\n",
    "def image_chat(prompt, img_path, model=\"gemma3:27b-it-qat\"):\n",
    "    response = chat(\n",
    "        model = model, \n",
    "        messages=[\n",
    "            {\n",
    "                'role': 'user',\n",
    "                'content': prompt,\n",
    "                'images': [img_path]\n",
    "            }\n",
    "        ]\n",
    "    )\n",
    "    return response[\"message\"][\"content\"]\n",
    "\n",
    "prompt = 'Is this an image of the food item hot dog say yes, otherwise say no, no other output'\n",
    "image_chat(prompt, image_path) "
   ]
  },
  {
   "cell_type": "code",
   "execution_count": 15,
   "metadata": {},
   "outputs": [
    {
     "data": {
      "text/plain": [
       "'no'"
      ]
     },
     "execution_count": 15,
     "metadata": {},
     "output_type": "execute_result"
    }
   ],
   "source": [
    "image_path = \"img/NotHotDog.jpg\"  # Replace with the actual path to your image file\n",
    "\n",
    "def image_chat(prompt, img_path):\n",
    "    response = chat(\n",
    "        model=\"gemma3:27b-it-qat\",  # Use a vision-capable model like LLaVA\n",
    "        messages=[\n",
    "            {\n",
    "                'role': 'user',\n",
    "                'content': 'Is this an image of the food item hot dog say yes, otherwise say no, no other output',\n",
    "                'images': [img_path]\n",
    "            }\n",
    "        ]\n",
    "    )\n",
    "    return response[\"message\"][\"content\"]\n",
    "\n",
    "\n",
    "image_chat(None,image_path) "
   ]
  },
  {
   "cell_type": "markdown",
   "metadata": {},
   "source": [
    "## Parsing the response\n",
    "With our prompt complete we can turn this into a simple classifier. From here you can replace this with any python logic you like, whether its sending an email, or anything else."
   ]
  },
  {
   "cell_type": "code",
   "execution_count": 16,
   "metadata": {},
   "outputs": [
    {
     "data": {
      "text/plain": [
       "'yes'"
      ]
     },
     "execution_count": 16,
     "metadata": {},
     "output_type": "execute_result"
    }
   ],
   "source": [
    "image_path = \"img/Hot_dog_with_mustard.png\"  # Replace with the actual path to your image file\n",
    "\n",
    "image_chat(None, image_path) "
   ]
  },
  {
   "cell_type": "code",
   "execution_count": 60,
   "metadata": {},
   "outputs": [
    {
     "data": {
      "text/plain": [
       "'Give treat'"
      ]
     },
     "execution_count": 60,
     "metadata": {},
     "output_type": "execute_result"
    }
   ],
   "source": [
    "def call_a_tool(img_path):\n",
    "    \"\"\"This just prints a string, but it could be anything else\"\"\"\n",
    "    response = image_chat(prompt, image_path)\n",
    "\n",
    "    if response.lower() == 'yes':\n",
    "        return \"Give treat\"\n",
    "    return \"Add ketchup\"\n",
    "\n",
    "call_a_tool(image_path)"
   ]
  },
  {
   "cell_type": "code",
   "execution_count": 59,
   "metadata": {},
   "outputs": [
    {
     "name": "stdout",
     "output_type": "stream",
     "text": [
      "Attempting to use font size: 366\n",
      "Using local font: /Users/canyon/repos/ai_image_agent/notebooks/Roboto-ExtraBold.ttf\n",
      "Calculated text dimensions: width=2310, height=268\n",
      "Text position: x=126.0, y=491.5\n",
      "Text 'NOT HOTDOG' drawn on image.\n",
      "Successfully saved image with text to test_tool_call_output.jpg (converted to RGB for JPEG).\n"
     ]
    }
   ],
   "source": [
    "from PIL import Image, ImageDraw, ImageFont\n",
    "\n",
    "def add_not_hotdog_text(input_image_path: str, output_image_path: str, text: str = \"NOT HOTDOG\", text_scale_factor: float = .5):\n",
    "    \"\"\"\n",
    "    Adds the specified text to an image and saves it to a new file.\n",
    "\n",
    "    Args:\n",
    "        input_image_path (str): The path to the input image file.\n",
    "        output_image_path (str): The path where the modified image will be saved.\n",
    "        text (str): The text to be written on the image (defaults to \"NOT HOTDOG\").\n",
    "        text_scale_factor (float): A multiplier to adjust the font size. Higher values mean larger text.\n",
    "                                   Default changed to 1.0, meaning the base calculation is the primary size.\n",
    "    \"\"\"\n",
    "    try:\n",
    "        # Open the image and ensure it's in RGBA mode for transparency, especially for text\n",
    "        img = Image.open(input_image_path).convert(\"RGBA\")\n",
    "        draw = ImageDraw.Draw(img)\n",
    "\n",
    "        # Define font and text color\n",
    "        font = None\n",
    "        # Significantly increase the base font size relative to image width\n",
    "        # Aim for the text to take up about 1/3 to 1/2 of the image width\n",
    "        # Adjusting the divisor to make text proportionally larger\n",
    "        base_font_size = img.width / 3.5 # Making it a larger fraction of image width\n",
    "        font_size = int(base_font_size * text_scale_factor)\n",
    "        \n",
    "        # Ensure a very high minimum size, regardless of image dimensions or scale factor,\n",
    "        # to guarantee visibility even if image is very small or scaling is minimal.\n",
    "        font_size = max(font_size, 200) # Set an even higher absolute minimum font size\n",
    "        \n",
    "        print(f\"Attempting to use font size: {font_size}\")\n",
    "\n",
    "        # Try to load a system font like Arial or DejaVuSans for proper scaling.\n",
    "        # Fallback to default if TrueType fonts are not found on the system.\n",
    "        try:\n",
    "            local_font_name = \"Roboto-ExtraBold.ttf\"\n",
    "            current_dir = os.getcwd()\n",
    "            local_font_path = os.path.join(current_dir, local_font_name)\n",
    "\n",
    "            if os.path.exists(local_font_path):\n",
    "                font = ImageFont.truetype(local_font_path, font_size)\n",
    "                true_type_font_found = True\n",
    "                print(f\"Using local font: {local_font_path}\")\n",
    "            # More comprehensive list of common font names/paths\n",
    "            font_candidates = [\n",
    "                (\"arial.ttf\", None), # Windows common\n",
    "                (\"Arial.ttf\", \"/Library/Fonts/\"), # macOS common\n",
    "                (\"DejaVuSans.ttf\", \"/usr/share/fonts/truetype/dejavu/\"), # Linux common\n",
    "                (\"LiberationSans-Regular.ttf\", \"/usr/share/fonts/truetype/liberation/\"), # Another Linux common\n",
    "                (\"sans-serif\", None) # Generic (Pillow might find a system default)\n",
    "            ]\n",
    "            \n",
    "            for font_name, font_dir in font_candidates:\n",
    "                try:\n",
    "                    if font_dir:\n",
    "                        font_path_attempt = os.path.join(font_dir, font_name)\n",
    "                    else:\n",
    "                        font_path_attempt = font_name\n",
    "                    \n",
    "                    if os.path.exists(font_path_attempt):\n",
    "                        font = ImageFont.truetype(font_path_attempt, font_size)\n",
    "                        print(f\"Using font: {font_path_attempt}\")\n",
    "                        break\n",
    "                except Exception:\n",
    "                    continue # Try next font path if current one fails to load\n",
    "            \n",
    "            if font is None:\n",
    "                # If no TrueType font found after all attempts\n",
    "                font = ImageFont.load_default()\n",
    "                print(f\"Warning: No TrueType font found at common paths. Using default bitmap font. \"\n",
    "                      f\"Text will appear small and will NOT scale with font_size ({font_size}). \"\n",
    "                      \"Consider installing 'arial.ttf' or 'dejavusans.ttf' on your system for proper scaling.\")\n",
    "        except Exception as e:\n",
    "            font = ImageFont.load_default()\n",
    "            print(f\"Critical error during TrueType font loading ({e}). Using default bitmap font. \"\n",
    "                  f\"Text will appear small and will NOT scale with font_size ({font_size}).\")\n",
    "\n",
    "\n",
    "        # Text color: changed to white for better contrast on a hotdog, fully opaque\n",
    "        text_color = (255, 255, 255, 255)  # Opaque White (RGBA)\n",
    "        text_color = (0, 0, 0, 255)  # Opaque White (RGBA)\n",
    "\n",
    "\n",
    "        # Calculate text bounding box for positioning\n",
    "        try:\n",
    "            # bbox = draw.textbbox((0, 0), text, font=font) is preferred for Pillow 8.0+\n",
    "            # It calculates (left, top, right, bottom) including ascenders/descenders\n",
    "            bbox = draw.textbbox((0, 0), text, font=font)\n",
    "            text_width = bbox[2] - bbox[0]\n",
    "            text_height = bbox[3] - bbox[1]\n",
    "        except AttributeError:\n",
    "            # Fallback for older Pillow versions that only have textsize (deprecated)\n",
    "            text_width, text_height = draw.textsize(text, font=font)\n",
    "            print(\"Using deprecated draw.textsize. Consider updating Pillow to 8.0.0+ for draw.textbbox for more accurate bounding box calculation.\")\n",
    "\n",
    "        print(f\"Calculated text dimensions: width={text_width}, height={text_height}\")\n",
    "\n",
    "        # Calculate position to center the text\n",
    "        x = (img.width - text_width) / 2\n",
    "        y = (img.height - text_height) / 2\n",
    "\n",
    "        # Ensure x and y are not negative and are within image bounds\n",
    "        x = max(0, min(x, img.width - text_width))\n",
    "        y = max(0, min(y, img.height - text_height))\n",
    "\n",
    "        print(f\"Text position: x={x}, y={y}\")\n",
    "\n",
    "        # Draw the text on the image\n",
    "        draw.text((x, y), text, font=font, fill=text_color)\n",
    "        print(f\"Text '{text}' drawn on image.\")\n",
    "\n",
    "        # Get the file extension from the output path\n",
    "        file_extension = os.path.splitext(output_image_path)[1].lower()\n",
    "\n",
    "        # If the output format is JPEG, convert to RGB mode before saving (JPEG does not support RGBA)\n",
    "        if file_extension in ['.jpg', '.jpeg']:\n",
    "            # Create a new RGB image (e.g., with a white background)\n",
    "            rgb_img = Image.new(\"RGB\", img.size, (255, 255, 255))\n",
    "            # Paste the original RGBA image onto the new RGB image using its alpha channel as a mask.\n",
    "            # This correctly handles transparency by compositing the image onto the white background.\n",
    "            rgb_img.paste(img, (0, 0), img)\n",
    "            rgb_img.save(output_image_path)\n",
    "            print(f\"Successfully saved image with text to {output_image_path} (converted to RGB for JPEG).\")\n",
    "        else:\n",
    "            # For PNG or other formats that support transparency, save as is (RGBA)\n",
    "            img.save(output_image_path)\n",
    "            print(f\"Successfully saved image with text to {output_image_path}.\")\n",
    "\n",
    "    except FileNotFoundError:\n",
    "        print(f\"Error: Input image file not found at {input_image_path}\")\n",
    "    except Exception as e:\n",
    "        print(f\"An unexpected error occurred: {e}. Please ensure Pillow is installed and the image path is correct.\")\n",
    "\n",
    "add_not_hotdog_text(image_path, \"test_tool_call_output.jpg\")"
   ]
  },
  {
   "cell_type": "code",
   "execution_count": 62,
   "metadata": {},
   "outputs": [
    {
     "name": "stdout",
     "output_type": "stream",
     "text": [
      "Attempting to use font size: 366\n",
      "Using local font: /Users/canyon/repos/ai_image_agent/notebooks/Roboto-ExtraBold.ttf\n",
      "Calculated text dimensions: width=2159, height=268\n",
      "Text position: x=201.5, y=491.5\n",
      "Text 'Not HOTDOG' drawn on image.\n",
      "Successfully saved image with text to not_hot_dog.jpg (converted to RGB for JPEG).\n"
     ]
    }
   ],
   "source": [
    "def call_a_tool(img_path):\n",
    "    \"\"\"This just prints a string, but it could be anything else\"\"\"\n",
    "    response = image_chat(prompt, image_path)\n",
    "    if response.lower() == 'yes':\n",
    "        add_not_hotdog_text(image_path, \"not_hot_dog.jpg\", text= \"Not HOTDOG\")\n",
    "        return\n",
    "    add_not_hotdog_text(image_path, \"hot_dog.jpg\", text= \"HOTDOG\")\n",
    "    return\n",
    "\n",
    "call_a_tool(image_path)"
   ]
  },
  {
   "cell_type": "markdown",
   "metadata": {},
   "source": [
    "## Upgrading with Gemini \n",
    "If you need a more powerful model it's only one API call away. With this the model stops being local but in turn you get access to frontier capabilities."
   ]
  },
  {
   "cell_type": "code",
   "execution_count": 11,
   "metadata": {},
   "outputs": [
    {
     "name": "stdout",
     "output_type": "stream",
     "text": [
      "This is a dachshund dog wearing a hot dog costume."
     ]
    }
   ],
   "source": [
    "from google import genai\n",
    "from google.genai import types\n",
    "\n",
    "with open(image_path, 'rb') as f:\n",
    "      image_bytes = f.read()\n",
    "\n",
    "def generate():\n",
    "    client = genai.Client(\n",
    "        api_key=\"INSERT_API_KEY\",\n",
    "    )\n",
    "\n",
    "    # Pick any model from AI studio\n",
    "    model = \"gemini-2.0-flash\"\n",
    "    contents = [\n",
    "        types.Content(\n",
    "            role=\"user\",\n",
    "            parts=[\n",
    "                    types.Part.from_bytes(\n",
    "                    data=image_bytes,\n",
    "                    mime_type='image/jpeg',\n",
    "                  ),\n",
    "                types.Part.from_text(text=\"\"\"What is this?\"\"\"),\n",
    "            ],\n",
    "        ),\n",
    "    ]\n",
    "    generate_content_config = types.GenerateContentConfig(\n",
    "        response_mime_type=\"text/plain\",\n",
    "    )\n",
    "\n",
    "    for chunk in client.models.generate_content_stream(\n",
    "        model=model,\n",
    "        contents=contents,\n",
    "        config=generate_content_config,\n",
    "    ):\n",
    "        print(chunk.text, end=\"\")\n",
    "generate()"
   ]
  },
  {
   "cell_type": "markdown",
   "metadata": {},
   "source": [
    "## 🎯 Recap: What We Learned \n",
    "\n",
    "In this section, we built our first basic image classification agent that can differentiate between two images and respond accordingly.\n",
    "\n",
    "Here are the key ideas to remember:\n",
    "- **Not everything needs to be chat**: Models can be prompted to return parseable outputs quite easily, no architecture changes needed.\n",
    "- **The model can be an intermediate part of a system**: The model doesn't always need to be front and center of every application.\n",
    "- **From there you can do anything**: We just outputted strings, but with python (or any other language) we can make our system act agentically do anything."
   ]
  }
 ],
 "metadata": {
  "kernelspec": {
   "display_name": "Python 3 (ipykernel)",
   "language": "python",
   "name": "python3"
  },
  "language_info": {
   "codemirror_mode": {
    "name": "ipython",
    "version": 3
   },
   "file_extension": ".py",
   "mimetype": "text/x-python",
   "name": "python",
   "nbconvert_exporter": "python",
   "pygments_lexer": "ipython3",
   "version": "3.12.9"
  }
 },
 "nbformat": 4,
 "nbformat_minor": 4
}
